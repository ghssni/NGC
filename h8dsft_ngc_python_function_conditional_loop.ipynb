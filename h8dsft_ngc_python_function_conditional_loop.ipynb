{
 "cells": [
  {
   "cell_type": "markdown",
   "metadata": {},
   "source": [
    "# Task 1 - Number of Word"
   ]
  },
  {
   "cell_type": "markdown",
   "metadata": {},
   "source": [
    "Create a function that count the number of word in a sentence.\n",
    "Instruction:\n",
    "1. Create function called `number_of_word`\n",
    "2. This function takes 1 input, `sentence`\n",
    "3. Inside this function, you can utilize `.split()` method to split the sentence into list of word(s) \n",
    "4. Also, `len()` function to count the element inside a list\n",
    "5. Return the number of word from the sentence."
   ]
  },
  {
   "cell_type": "code",
   "execution_count": 15,
   "metadata": {},
   "outputs": [],
   "source": [
    "def number_of_word(sentence):\n",
    "    '''memecah kalimat menjadi beberapa kata,\n",
    "    lalu menghitung banyaknya kata menggunakan len()'''\n",
    "    return len(sentence.split())"
   ]
  },
  {
   "cell_type": "code",
   "execution_count": 17,
   "metadata": {},
   "outputs": [
    {
     "data": {
      "text/plain": [
       "8"
      ]
     },
     "execution_count": 17,
     "metadata": {},
     "output_type": "execute_result"
    }
   ],
   "source": [
    "# contoh penggunaan fungsi number_of_word\n",
    "number_of_word('Hello World!')\n",
    "number_of_word('Once Upon a Time in a faraway land')"
   ]
  },
  {
   "cell_type": "markdown",
   "metadata": {},
   "source": [
    "# Task 2 - Find Multiple"
   ]
  },
  {
   "cell_type": "markdown",
   "metadata": {},
   "source": [
    "Create a function that will get list of number(s) from a certain range that multiples of given number\n",
    "\n",
    "Instruction:\n",
    "1. Create function called `find_multiples`\n",
    "2. This function takes 3 input: `start_range`, `end_range`, and `multiple`\n",
    "3. From every number within the given range, check if that number is the mutliples of `multiple`\n",
    "4. Return list of the possible multiple number(s)"
   ]
  },
  {
   "cell_type": "code",
   "execution_count": 1,
   "metadata": {},
   "outputs": [],
   "source": [
    "# Membuat fungsi find_multiple\n",
    "def find_multiple(start_range, end_range, multiple):\n",
    "    '''membuat fungsi dari statement range, dengan start range dikurangi 1 \n",
    "    agar hasil multiple tidak berakhiran 1, lalu menjadikannya list, setelah itu return\n",
    "    dengan mengambil dari indeks 1'''\n",
    "    find = list(range((start_range-1), end_range, multiple))\n",
    "    return find[1:]\n",
    "\n",
    "def find_multiple(start_range, end_range, multiple):\n",
    "    find =list(range(multiple, (end_range+1), multiple))\n",
    "    return find"
   ]
  },
  {
   "cell_type": "code",
   "execution_count": 2,
   "metadata": {},
   "outputs": [
    {
     "data": {
      "text/plain": [
       "[10, 20, 30, 40, 50]"
      ]
     },
     "execution_count": 2,
     "metadata": {},
     "output_type": "execute_result"
    }
   ],
   "source": [
    "# contoh penggunaan fungsi find_multiple\n",
    "find_multiple(1,20,5)\n",
    "find_multiple(1,50,10)"
   ]
  },
  {
   "cell_type": "markdown",
   "metadata": {},
   "source": [
    "# Task 3 - Grade Converter"
   ]
  },
  {
   "cell_type": "markdown",
   "metadata": {},
   "source": [
    "Create a function that will convert student’s grade to GPA.\n",
    "Instruction:\n",
    "1. Create function called `Grade_Converter`\n",
    "2. This function takes input: `convert_to` and n-paired of student(s) name with its respective score\n",
    "3. Input argument for `convert_to` is either `letter_grade` or `gpa` \n",
    "4. You can utilize **kwargs input argument to generate n-length paired of student(s) name with its respective score (Dictionary)\n",
    "5. This function will return dictionary of student’s name along with converted Letter Grade or GPA, depending on user input in `convert_to` parameter\n",
    "\n",
    "|Score|Letter Grade|GPA 4.0 Scale|\n",
    "|:-:|:-:|:-:|\n",
    "|85-100|A|4|\n",
    "|70-84,99|B|3|\n",
    "|60-69,99|C|2.5|\n",
    "|50-59,99|D|2|\n",
    "|40-49,99|E|1.5|\n",
    "|0-39,99|F|1|"
   ]
  },
  {
   "cell_type": "code",
   "execution_count": 4,
   "metadata": {},
   "outputs": [
    {
     "data": {
      "text/plain": [
       "{'Albert': 'A', 'Dwi': 'B', 'Syahdan': 'D', 'Veronica': 'B'}"
      ]
     },
     "execution_count": 4,
     "metadata": {},
     "output_type": "execute_result"
    }
   ],
   "source": [
    "# Membuat fungsi untuk covert Grade to GPA\n",
    "def gpaa(score):\n",
    "    if 85 <= score <= 100:\n",
    "        return '4'\n",
    "    elif 70 <= score < 85:\n",
    "        return '3'\n",
    "    elif 60 <= score < 70:\n",
    "        return '2.5'\n",
    "    elif 50 <= score < 60:\n",
    "        return '2'\n",
    "    elif 40 <= score < 50:\n",
    "        return '1.5'\n",
    "    elif 0 <= score < 40:\n",
    "        return '1'\n",
    "\n",
    "def letter_grade(score):\n",
    "    if 85 <= score <= 100:\n",
    "        return 'A'\n",
    "    elif 70 <= score < 85:\n",
    "        return 'B'\n",
    "    elif 60 <= score < 70:\n",
    "        return 'C'\n",
    "    elif 50 <= score < 60:\n",
    "        return 'D'\n",
    "    elif 40 <= score < 50:\n",
    "        return 'E'\n",
    "    elif 0 <= score < 40:\n",
    "        return 'F'\n",
    "    \n",
    "def Grade_Converter(convert_to, **score):\n",
    "    result={}\n",
    "    if convert_to == 'gpa':\n",
    "        for name, score in score.items():\n",
    "            result[name] = gpaa(score)\n",
    "    elif convert_to == 'letter_grade':\n",
    "        for name, score in score.items():\n",
    "            result[name] = letter_grade(score)\n",
    "    \n",
    "    return result\n",
    "\n",
    "Grade_Converter(convert_to='gpa', Adam=62, Faiz=91)\n",
    "Grade_Converter(convert_to='letter_grade', Albert=90, Dwi=82, Syahdan=58, Veronica=84)\n"
   ]
  },
  {
   "cell_type": "markdown",
   "metadata": {},
   "source": []
  },
  {
   "cell_type": "markdown",
   "metadata": {},
   "source": [
    "# Task 4 - Fibonacci Sequence\n",
    "create a function that will return the value of n-th fibonacci number.\n",
    "Instruction:\n",
    "1. The function will take 1 input parameter, n, represents the asked number from our fibonacci sequence index.\n",
    "2. The fibonacci sequence will start with the value of 0 and 1.\n",
    "3. This function will return the n-th value from fibonacci sequence"
   ]
  },
  {
   "cell_type": "code",
   "execution_count": 11,
   "metadata": {},
   "outputs": [],
   "source": [
    "# Membuat Fungsi Fibonacci\n",
    "def my_function(n):\n",
    "    a=0\n",
    "    b=1\n",
    "    if n < 0:\n",
    "        print('Wrong Input')\n",
    "    elif n == 0:\n",
    "        return a\n",
    "    elif n ==1:\n",
    "        return b\n",
    "    else:\n",
    "        for i in range(2, n+1):\n",
    "            c = a + b\n",
    "            a = b \n",
    "            b = c\n",
    "        return b\n",
    "\n",
    "\n",
    "def f(n):\n",
    "    if n == 0:\n",
    "        return 0\n",
    "    else:\n",
    "        an =[0,1]\n",
    "        while len(an) < n +1\n",
    "            ans = an + [an[-1] + an[-2]]"
   ]
  },
  {
   "cell_type": "code",
   "execution_count": 12,
   "metadata": {},
   "outputs": [
    {
     "data": {
      "text/plain": [
       "55"
      ]
     },
     "execution_count": 12,
     "metadata": {},
     "output_type": "execute_result"
    }
   ],
   "source": [
    "# Testing Fibonacci function\n",
    "my_function(0)\n",
    "my_function(4)\n",
    "my_function(10)"
   ]
  },
  {
   "cell_type": "code",
   "execution_count": null,
   "metadata": {},
   "outputs": [],
   "source": []
  }
 ],
 "metadata": {
  "kernelspec": {
   "display_name": "base",
   "language": "python",
   "name": "python3"
  },
  "language_info": {
   "codemirror_mode": {
    "name": "ipython",
    "version": 3
   },
   "file_extension": ".py",
   "mimetype": "text/x-python",
   "name": "python",
   "nbconvert_exporter": "python",
   "pygments_lexer": "ipython3",
   "version": "3.9.13"
  }
 },
 "nbformat": 4,
 "nbformat_minor": 2
}
