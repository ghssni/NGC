{
 "cells": [
  {
   "cell_type": "code",
   "execution_count": 1,
   "metadata": {},
   "outputs": [],
   "source": [
    "import unittest\n",
    "\n",
    "class BookCatalogTest(unittest.TestCase):\n",
    "    def setUp(self):\n",
    "        self.catalog = Catalog()\n",
    "        self.book1 = Library(\"Title 1\", \"Author 1\", 1)\n",
    "        self.book2 = Library(\"Title 2\", \"Author 2\", 2)\n",
    "        self.book3 = Library(\"Title 3\", \"Author 3\", 3)\n",
    "        self.catalog.add_to_catalog(self.book1)\n",
    "        self.catalog.add_to_catalog(self.book2)\n",
    "        self.catalog.add_to_catalog(self.book3)\n",
    "\n",
    "    def test_add_book(self):\n",
    "        new = Library(\"New Book\", \"New Author\", 4)\n",
    "        self.catalog.add_to_catalog(new)\n",
    "        self.assertIn(new, self.catalog.books)\n",
    "\n",
    "    def test_add_invalid_book(self):\n",
    "        with self.assertRaises(ValueError):\n",
    "            self.catalog.add_to_catalog(\"Invalid object\")\n",
    "    \n",
    "    def test_search_books_by_author(self):\n",
    "        results = self.catalog.search_bboks(\"Author 1\")\n",
    "        self.assertEqual(len(results), 2)\n",
    "        self.assertIn(self.book1, results)\n",
    "        self.assertIn(self.book3, results)\n",
    "    \n",
    "    def test_remove_book(self):\n",
    "        self.catalog.remove_book(self.book2)\n",
    "        self.assertNotIn(self.book2, self.catalog.books)\n",
    "        self.assertIn(self.book1, self.catalog.books)\n",
    "\n",
    "    def test_remove_nonexistent_book(self):\n",
    "        invalid_book = LibraryBook(\"Invalid Title\", \"Invalid Author\", 99)\n",
    "        with self.assertRaises(ValueError):\n",
    "            self.catalog.remove_book(invalid_book)"
   ]
  },
  {
   "cell_type": "code",
   "execution_count": 3,
   "metadata": {},
   "outputs": [
    {
     "name": "stderr",
     "output_type": "stream",
     "text": [
      "EEEEE\n",
      "======================================================================\n",
      "ERROR: test_add_book (__main__.BookCatalogTest)\n",
      "----------------------------------------------------------------------\n",
      "Traceback (most recent call last):\n",
      "  File \"C:\\Users\\DELL\\AppData\\Local\\Temp\\ipykernel_13880\\3199209700.py\", line 5, in setUp\n",
      "    self.catalog = Catalog()\n",
      "NameError: name 'Catalog' is not defined\n",
      "\n",
      "======================================================================\n",
      "ERROR: test_add_invalid_book (__main__.BookCatalogTest)\n",
      "----------------------------------------------------------------------\n",
      "Traceback (most recent call last):\n",
      "  File \"C:\\Users\\DELL\\AppData\\Local\\Temp\\ipykernel_13880\\3199209700.py\", line 5, in setUp\n",
      "    self.catalog = Catalog()\n",
      "NameError: name 'Catalog' is not defined\n",
      "\n",
      "======================================================================\n",
      "ERROR: test_remove_book (__main__.BookCatalogTest)\n",
      "----------------------------------------------------------------------\n",
      "Traceback (most recent call last):\n",
      "  File \"C:\\Users\\DELL\\AppData\\Local\\Temp\\ipykernel_13880\\3199209700.py\", line 5, in setUp\n",
      "    self.catalog = Catalog()\n",
      "NameError: name 'Catalog' is not defined\n",
      "\n",
      "======================================================================\n",
      "ERROR: test_remove_nonexistent_book (__main__.BookCatalogTest)\n",
      "----------------------------------------------------------------------\n",
      "Traceback (most recent call last):\n",
      "  File \"C:\\Users\\DELL\\AppData\\Local\\Temp\\ipykernel_13880\\3199209700.py\", line 5, in setUp\n",
      "    self.catalog = Catalog()\n",
      "NameError: name 'Catalog' is not defined\n",
      "\n",
      "======================================================================\n",
      "ERROR: test_search_books_by_author (__main__.BookCatalogTest)\n",
      "----------------------------------------------------------------------\n",
      "Traceback (most recent call last):\n",
      "  File \"C:\\Users\\DELL\\AppData\\Local\\Temp\\ipykernel_13880\\3199209700.py\", line 5, in setUp\n",
      "    self.catalog = Catalog()\n",
      "NameError: name 'Catalog' is not defined\n",
      "\n",
      "----------------------------------------------------------------------\n",
      "Ran 5 tests in 0.014s\n",
      "\n",
      "FAILED (errors=5)\n"
     ]
    },
    {
     "data": {
      "text/plain": [
       "<unittest.main.TestProgram at 0x16ca2c7a640>"
      ]
     },
     "execution_count": 3,
     "metadata": {},
     "output_type": "execute_result"
    }
   ],
   "source": [
    "unittest.main(argv=[''], exit=False)"
   ]
  },
  {
   "cell_type": "code",
   "execution_count": null,
   "metadata": {},
   "outputs": [],
   "source": []
  }
 ],
 "metadata": {
  "kernelspec": {
   "display_name": "base",
   "language": "python",
   "name": "python3"
  },
  "language_info": {
   "codemirror_mode": {
    "name": "ipython",
    "version": 3
   },
   "file_extension": ".py",
   "mimetype": "text/x-python",
   "name": "python",
   "nbconvert_exporter": "python",
   "pygments_lexer": "ipython3",
   "version": "3.9.13"
  }
 },
 "nbformat": 4,
 "nbformat_minor": 2
}
