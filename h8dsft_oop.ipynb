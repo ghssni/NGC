{
 "cells": [
  {
   "cell_type": "markdown",
   "metadata": {},
   "source": [
    "# Task - NGC 3\n",
    "Create a library catalog system using OOP. The system should allow users to add books to the catalog, search for books by title or author, and remove books from the catalog.\n",
    "Requirements:\n",
    "1. Each book should have a title, author, and unique identifier\n",
    "2. The system should provide the following functionality:\n",
    "- Adding a book to the catalog.\n",
    "- Searching for books by title or author\n",
    "- Removing a book from the catalog\n",
    "- Displaying all books in the catalog.\n",
    "3. Do the exception handling"
   ]
  },
  {
   "cell_type": "code",
   "execution_count": 5,
   "metadata": {},
   "outputs": [],
   "source": [
    "# Membuat Kelas Library\n",
    "class Library():\n",
    "    def __init__(self, title, author, identifier):\n",
    "        self.title = title\n",
    "        self.author = author\n",
    "        self.identifier = identifier \n",
    "\n",
    "    def __str__(self):\n",
    "        return f\"Book ID: {self.identifier}, Title: {self.title}, Author: {self.author}\"\n",
    "    \n",
    "class Catalog():\n",
    "    def __init__(self):\n",
    "         self.log = []\n",
    "\n",
    "    def add_to_catalog(self, catalo):\n",
    "        if not isinstance(catalo, Library):\n",
    "            raise ValueError(\"Book with the same ID already exist\")\n",
    "        self.log.append(catalo)\n",
    "    \n",
    "    def book_search(self, keyword):\n",
    "        found_books = []\n",
    "        for catalo in self.log:\n",
    "            if keyword.lower() in catalo.title.lower() or keyword.lower() in catalo.author.lower():\n",
    "                found_books.append(catalo)\n",
    "        return found_books\n",
    "    \n",
    "    def remove_book(self, catalo):\n",
    "        if catalo in self.log:\n",
    "            self.log.remove(catalo)\n",
    "        else:\n",
    "            raise ValueError(\"Book not found in catalog\")\n",
    "    \n",
    "    def display_book(self):\n",
    "        if not self.log:\n",
    "            print(\"The catalog is empty\")\n",
    "        else:\n",
    "            for catalo in self.log:\n",
    "                print(catalo)"
   ]
  },
  {
   "cell_type": "code",
   "execution_count": 6,
   "metadata": {},
   "outputs": [],
   "source": [
    "book_catalog = Catalog()\n",
    "\n",
    "library_b1 = Library(\"Buku 1\", \"Kukuh\", 1)\n",
    "library_b2 = Library(\"Bridge\", \"Indrayana\", 2)\n",
    "library_b3 = Library(\"Mini Bridge\", \"Bambang\", 3)\n",
    "\n",
    "book_catalog.add_to_catalog(library_b1)\n",
    "book_catalog.add_to_catalog(library_b2)\n",
    "book_catalog.add_to_catalog(library_b3)\n",
    "\n"
   ]
  },
  {
   "cell_type": "code",
   "execution_count": 7,
   "metadata": {},
   "outputs": [
    {
     "name": "stdout",
     "output_type": "stream",
     "text": [
      "Bridge: \n",
      "Book ID: 1, Title: Buku 1, Author: Kukuh\n"
     ]
    }
   ],
   "source": [
    "print(\"Bridge: \")\n",
    "result = book_catalog.book_search(\"Kukuh\")\n",
    "for catalo in result:\n",
    "    print(catalo)"
   ]
  },
  {
   "cell_type": "code",
   "execution_count": 8,
   "metadata": {},
   "outputs": [
    {
     "name": "stdout",
     "output_type": "stream",
     "text": [
      "Removing 'buku 1'\n",
      "Book ID: 1, Title: Buku 1, Author: Kukuh\n",
      "Book ID: 2, Title: Bridge, Author: Indrayana\n"
     ]
    }
   ],
   "source": [
    "print(\"Removing 'buku 1'\")\n",
    "book_catalog.remove_book(library_b3)\n",
    "book_catalog.display_book()"
   ]
  },
  {
   "cell_type": "code",
   "execution_count": null,
   "metadata": {},
   "outputs": [],
   "source": []
  }
 ],
 "metadata": {
  "kernelspec": {
   "display_name": "base",
   "language": "python",
   "name": "python3"
  },
  "language_info": {
   "codemirror_mode": {
    "name": "ipython",
    "version": 3
   },
   "file_extension": ".py",
   "mimetype": "text/x-python",
   "name": "python",
   "nbconvert_exporter": "python",
   "pygments_lexer": "ipython3",
   "version": "3.9.13"
  }
 },
 "nbformat": 4,
 "nbformat_minor": 2
}
