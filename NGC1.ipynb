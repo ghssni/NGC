{
 "cells": [
  {
   "cell_type": "markdown",
   "metadata": {},
   "source": [
    "# Task 1"
   ]
  },
  {
   "cell_type": "code",
   "execution_count": 7,
   "metadata": {},
   "outputs": [
    {
     "name": "stdout",
     "output_type": "stream",
     "text": [
      "{'A461', 'A083', 'B904', 'B439', 'B818', 'A092', 'A005', 'A901', 'A082', 'B821', 'B219', 'B341'}\n"
     ]
    },
    {
     "data": {
      "text/plain": [
       "12"
      ]
     },
     "execution_count": 7,
     "metadata": {},
     "output_type": "execute_result"
    }
   ],
   "source": [
    "customer_id = ['B818', 'A461', 'A092', 'A082', 'B341', 'A005', 'A092', 'A461',\n",
    "               'B219', 'B904', 'A901', 'A083', 'B904', 'A092', 'B341', 'B821',\n",
    "               'B341', 'B821', 'B904', 'B818', 'A901', 'A083', 'B818', 'A082',\n",
    "               'B219', 'B219', 'A083', 'A901', 'A082', 'B341', 'B341', 'A083',\n",
    "               'A082', 'B219', 'B439', 'A461', 'A005', 'A901', 'B341', 'A082',\n",
    "               'A083', 'A461', 'A083', 'A901', 'A461', 'A083', 'A082', 'A083',\n",
    "               'B341', 'A901', 'A082', 'A461', 'B219', 'A083', 'B818', 'B821',\n",
    "               'A092', 'B341', 'A461', 'A092', 'A083', 'B821', 'A092']\n",
    "\n",
    "# Mengubah type list ke set\n",
    "SetCust = set(customer_id)\n",
    "print(SetCust)\n",
    "\n",
    "# Menghitung banyaknya customer yang datang\n",
    "len(SetCust)"
   ]
  },
  {
   "cell_type": "markdown",
   "metadata": {},
   "source": [
    "# Task 2"
   ]
  },
  {
   "cell_type": "code",
   "execution_count": 11,
   "metadata": {},
   "outputs": [
    {
     "data": {
      "text/plain": [
       "[100, 81, 64, 49, 36, 25, 16, 9, 4, 1]"
      ]
     },
     "execution_count": 11,
     "metadata": {},
     "output_type": "execute_result"
    }
   ],
   "source": [
    "Data = [1, 4, 9, 16, 25, 36, 49,  64, 81, 100]\n",
    "\n",
    "Data[3]\n",
    "Data[5:-1]\n",
    "Data[::-1]"
   ]
  },
  {
   "cell_type": "markdown",
   "metadata": {},
   "source": [
    "# Task 3"
   ]
  },
  {
   "cell_type": "code",
   "execution_count": 19,
   "metadata": {},
   "outputs": [
    {
     "name": "stdout",
     "output_type": "stream",
     "text": [
      "{'Nanggroe Aceh Darussalam': 'Aceh', 'Sumatera Selatan': 'Palembang', 'Kalimantan Barat': 'Pontianak', 'Jawa Timur': 'Surabaya', 'Sulawesi Selatan': 'Makassar', 'Maluku': 'Ambon'}\n"
     ]
    }
   ],
   "source": [
    "provinsi = {'Nanggroe Aceh Darussalam': 'Aceh',\n",
    "            'Sumatera Selatan': 'Palembang',\n",
    "            'Kalimantan Barat': 'Pontianak',\n",
    "            'Jawa Timur': 'Madiun',\n",
    "            'Sulawesi Selatan': 'Makassar',\n",
    "            'Maluku': 'Ambon'}\n",
    "\n",
    "# Mencari Keys untuk dictionary provinsi\n",
    "dict.keys(provinsi)\n",
    "# Mengubah value 'Madiun' ke 'Surabaya' \n",
    "provinsi['Jawa Timur']='Surabaya'\n",
    "print(provinsi)"
   ]
  },
  {
   "cell_type": "markdown",
   "metadata": {},
   "source": []
  }
 ],
 "metadata": {
  "kernelspec": {
   "display_name": "base",
   "language": "python",
   "name": "python3"
  },
  "language_info": {
   "codemirror_mode": {
    "name": "ipython",
    "version": 3
   },
   "file_extension": ".py",
   "mimetype": "text/x-python",
   "name": "python",
   "nbconvert_exporter": "python",
   "pygments_lexer": "ipython3",
   "version": "3.9.13"
  }
 },
 "nbformat": 4,
 "nbformat_minor": 2
}
